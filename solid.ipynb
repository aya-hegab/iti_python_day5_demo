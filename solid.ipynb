{
 "cells": [
  {
   "cell_type": "code",
   "execution_count": null,
   "metadata": {},
   "outputs": [],
   "source": [
    "class Invoice :\n",
    "    def __init__(self):\n",
    "        pass \n",
    "    def calculate Total(self):\n",
    "        pass\n",
    "class InvoicePrinter:\n",
    "    def __init__(self):\n",
    "        obj = Invoice()\n",
    "    def pirntInvoice(self):\n",
    "        pass\n",
    "class InvoiceSaver:\n",
    "    def __init__(self):\n",
    "        obh = Invoice()\n",
    "    def save(self):\n",
    "        pass\n"
   ]
  },
  {
   "cell_type": "code",
   "execution_count": null,
   "metadata": {},
   "outputs": [],
   "source": [
    "\n",
    "class Shape:\n",
    "    def draw(self):\n",
    "        pass\n",
    "class Rect(Shape):\n",
    "    def draw(self):\n",
    "        print(\"rect\")\n",
    "    \n",
    "\n",
    "class Square (Shape):\n",
    "    def draw(self):\n",
    "        print(\"square\")\n",
    "class Triangle(Shape):\n",
    "    def draw(self):\n",
    "        print(\"triangle\")\n",
    "    \n",
    "# class DrawShape:\n",
    "#     def drawShape(x):\n",
    "#         if isinstance(x , Rect):\n",
    "#             pass\n",
    "#         elif isinstance(x , Square):\n",
    "#             pass\n",
    "class DrawShape:\n",
    "    def drawShape(shape):\n",
    "        shape.draw()\n",
    "\n",
    "\n",
    "\n",
    "\n",
    "\n"
   ]
  },
  {
   "cell_type": "code",
   "execution_count": null,
   "metadata": {},
   "outputs": [],
   "source": [
    "class CarDelivery:\n",
    "    def send(self , product):\n",
    "        pass\n",
    "class motorDelivery:\n",
    "    def send(self , product):\n",
    "        pass\n",
    "\n",
    "\n",
    "class Company:\n",
    "    def deliverProduct(self , product):\n",
    "        mohammed = CarDelivery()\n",
    "        mohammed.send(product)\n",
    "\n",
    "\n"
   ]
  }
 ],
 "metadata": {
  "language_info": {
   "name": "python"
  }
 },
 "nbformat": 4,
 "nbformat_minor": 2
}
