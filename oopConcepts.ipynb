{
 "cells": [
  {
   "cell_type": "code",
   "execution_count": 5,
   "metadata": {},
   "outputs": [
    {
     "name": "stdout",
     "output_type": "stream",
     "text": [
      "3.5\n"
     ]
    }
   ],
   "source": [
    "class Human :\n",
    "    def __init__(self , id , name):\n",
    "        self.id = id\n",
    "        self.name = name\n",
    "    \n",
    "class  Student (Human):\n",
    "    def __init__(self,id , name , gpa , grade ):\n",
    "        self.gpa = gpa\n",
    "        self.grade=grade\n",
    "        # super().__init__(id , name)\n",
    "        Human.__init__(self, id , name)\n",
    "    \n",
    "mohammed = Student(1 , \"Mohammed\" , 3.5 , 3)\n",
    "print (mohammed.gpa)\n",
    "\n"
   ]
  },
  {
   "cell_type": "code",
   "execution_count": 11,
   "metadata": {},
   "outputs": [
    {
     "name": "stdout",
     "output_type": "stream",
     "text": [
      "human constructor\n",
      "father constructor\n",
      "human constructor\n",
      "mother constructor\n",
      "child constructor\n",
      "True\n",
      "True\n",
      "True\n",
      "True\n",
      "True\n"
     ]
    }
   ],
   "source": [
    "class Human :\n",
    "    def __init__(self , id , name):\n",
    "        self.id = id\n",
    "        self.name = name\n",
    "        print(\"human constructor\")\n",
    "class Father (Human):\n",
    "    def __init__(self , id , name, married_to):\n",
    "        self.married_to = married_to\n",
    "        Human.__init__(self , id,name)\n",
    "        print(\"father constructor\")\n",
    "class Mother (Human):\n",
    "    def __init__(self , id , name, married_to):\n",
    "        self.married_to = married_to\n",
    "        Human.__init__(self,id,name)\n",
    "        print(\"mother constructor\")\n",
    "class Child(Father , Mother):\n",
    "    def __init__(self , id , name, mother , father ,gender):\n",
    "        self.gender = gender\n",
    "        Father.__init__(self , id, name , mother)\n",
    "        Mother.__init__(self , id , name , father)\n",
    "        print(\"child constructor\")\n",
    "    \n",
    "mohammed = Child (1 , \"mohammed\" , \"yara\" , \"ahmed\" , \"male\")\n",
    "print(isinstance(mohammed, Child))\n",
    "print(isinstance(mohammed, Father))\n",
    "print(isinstance(mohammed, Mother))\n",
    "print(isinstance(mohammed, Human))\n",
    "print(isinstance(mohammed, object))\n",
    "\n",
    "\n",
    "\n"
   ]
  },
  {
   "cell_type": "code",
   "execution_count": 39,
   "metadata": {},
   "outputs": [
    {
     "name": "stdout",
     "output_type": "stream",
     "text": [
      "human constructor\n",
      "i eat with Fork and Knife\n",
      "mohammed\n",
      "{'id': 1, 'name': 'mohammed', 'country': 'Egyptian'}\n",
      "3\n",
      "arabian object\n"
     ]
    }
   ],
   "source": [
    "class Human :\n",
    "    def __init__(self , id , name):\n",
    "        self.id = id\n",
    "        self.name = name\n",
    "        print(\"human constructor\")\n",
    "    def eat(self):\n",
    "        print (\"i eat with my hands\")\n",
    "class Arabian (Human):\n",
    "    def __init__(self , id , name ,country):\n",
    "        Human.__init__(self , id , name )\n",
    "        self.country = country\n",
    "    def eat(self):\n",
    "        print (\"i eat with Fork and Knife\")\n",
    "    def __str__(self):\n",
    "        return str(self.name)\n",
    "    def __len__(self):\n",
    "        return len(self.__dict__)\n",
    "    def __call__(self):\n",
    "        print(\"arabian object\") \n",
    "\n",
    "mohammed = Arabian(1 , \"mohammed\" , \"Egyptian\")\n",
    "mohammed.eat()\n",
    "print(mohammed)\n",
    "print(mohammed.__dict__)\n",
    "print (len (mohammed))\n",
    "mohammed()\n",
    "\n"
   ]
  },
  {
   "cell_type": "code",
   "execution_count": 26,
   "metadata": {},
   "outputs": [
    {
     "name": "stdout",
     "output_type": "stream",
     "text": [
      "gender setter\n",
      "gender getter\n",
      "male\n",
      "gender setter\n",
      "22\n"
     ]
    }
   ],
   "source": [
    "class Student:\n",
    "    def __init__(self, name , age , gender):\n",
    "        self.__name = name # private\n",
    "        self.setAge(age)\n",
    "        self.gender = gender\n",
    "    @property\n",
    "    def gender(self):\n",
    "        print(\"gender getter\")\n",
    "        return self.__gender\n",
    "    @gender.setter\n",
    "    def gender(self , gender):\n",
    "        self.__gender = gender\n",
    "        print(\"gender setter\")\n",
    "\n",
    "\n",
    "    def setAge (self , age):\n",
    "        if age >= 18 :\n",
    "            self.__age = age\n",
    "        else:\n",
    "            self.__age = 18\n",
    "    def getAge (self):\n",
    "        return self.__age\n",
    "\n",
    "\n",
    "mohammed = Student(\"mohammed\" , 22 , \"male\")\n",
    "print(mohammed.gender)\n",
    "mohammed.gender = \"male\"\n",
    "print(mohammed.getAge())\n"
   ]
  }
 ],
 "metadata": {
  "kernelspec": {
   "display_name": "Python 3",
   "language": "python",
   "name": "python3"
  },
  "language_info": {
   "codemirror_mode": {
    "name": "ipython",
    "version": 3
   },
   "file_extension": ".py",
   "mimetype": "text/x-python",
   "name": "python",
   "nbconvert_exporter": "python",
   "pygments_lexer": "ipython3",
   "version": "3.11.2"
  }
 },
 "nbformat": 4,
 "nbformat_minor": 2
}
